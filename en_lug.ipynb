{
  "nbformat": 4,
  "nbformat_minor": 0,
  "metadata": {
    "colab": {
      "provenance": [],
      "gpuType": "T4"
    },
    "kernelspec": {
      "name": "python3",
      "display_name": "Python 3"
    },
    "language_info": {
      "name": "python"
    },
    "accelerator": "GPU"
  },
  "cells": [
    {
      "cell_type": "code",
      "source": [
        "from google.colab import drive\n",
        "drive.mount('/content/gdrive')"
      ],
      "metadata": {
        "colab": {
          "base_uri": "https://localhost:8080/"
        },
        "id": "u-v2UPQZyvkF",
        "outputId": "2f481929-13fb-4a30-eb19-7dbe15a12fd5"
      },
      "execution_count": null,
      "outputs": [
        {
          "output_type": "stream",
          "name": "stdout",
          "text": [
            "Drive already mounted at /content/gdrive; to attempt to forcibly remount, call drive.mount(\"/content/gdrive\", force_remount=True).\n"
          ]
        }
      ]
    },
    {
      "cell_type": "code",
      "execution_count": null,
      "metadata": {
        "colab": {
          "base_uri": "https://localhost:8080/"
        },
        "id": "3z8gKw-l2fjK",
        "outputId": "4941c668-23d9-4ab8-dbf9-15543208683f"
      },
      "outputs": [
        {
          "output_type": "stream",
          "name": "stdout",
          "text": [
            "Requirement already satisfied: datasets==2.18.0 in /usr/local/lib/python3.10/dist-packages (2.18.0)\n",
            "Requirement already satisfied: transformers==4.38.2 in /usr/local/lib/python3.10/dist-packages (from transformers[torch]==4.38.2) (4.38.2)\n",
            "Requirement already satisfied: tensorboard in /usr/local/lib/python3.10/dist-packages (2.17.0)\n",
            "Requirement already satisfied: filelock in /usr/local/lib/python3.10/dist-packages (from datasets==2.18.0) (3.16.1)\n",
            "Requirement already satisfied: numpy>=1.17 in /usr/local/lib/python3.10/dist-packages (from datasets==2.18.0) (1.26.4)\n",
            "Requirement already satisfied: pyarrow>=12.0.0 in /usr/local/lib/python3.10/dist-packages (from datasets==2.18.0) (17.0.0)\n",
            "Requirement already satisfied: pyarrow-hotfix in /usr/local/lib/python3.10/dist-packages (from datasets==2.18.0) (0.6)\n",
            "Requirement already satisfied: dill<0.3.9,>=0.3.0 in /usr/local/lib/python3.10/dist-packages (from datasets==2.18.0) (0.3.8)\n",
            "Requirement already satisfied: pandas in /usr/local/lib/python3.10/dist-packages (from datasets==2.18.0) (2.2.2)\n",
            "Requirement already satisfied: requests>=2.19.0 in /usr/local/lib/python3.10/dist-packages (from datasets==2.18.0) (2.32.3)\n",
            "Requirement already satisfied: tqdm>=4.62.1 in /usr/local/lib/python3.10/dist-packages (from datasets==2.18.0) (4.66.6)\n",
            "Requirement already satisfied: xxhash in /usr/local/lib/python3.10/dist-packages (from datasets==2.18.0) (3.5.0)\n",
            "Requirement already satisfied: multiprocess in /usr/local/lib/python3.10/dist-packages (from datasets==2.18.0) (0.70.16)\n",
            "Requirement already satisfied: fsspec<=2024.2.0,>=2023.1.0 in /usr/local/lib/python3.10/dist-packages (from fsspec[http]<=2024.2.0,>=2023.1.0->datasets==2.18.0) (2024.2.0)\n",
            "Requirement already satisfied: aiohttp in /usr/local/lib/python3.10/dist-packages (from datasets==2.18.0) (3.10.10)\n",
            "Requirement already satisfied: huggingface-hub>=0.19.4 in /usr/local/lib/python3.10/dist-packages (from datasets==2.18.0) (0.24.7)\n",
            "Requirement already satisfied: packaging in /usr/local/lib/python3.10/dist-packages (from datasets==2.18.0) (24.1)\n",
            "Requirement already satisfied: pyyaml>=5.1 in /usr/local/lib/python3.10/dist-packages (from datasets==2.18.0) (6.0.2)\n",
            "Requirement already satisfied: regex!=2019.12.17 in /usr/local/lib/python3.10/dist-packages (from transformers==4.38.2->transformers[torch]==4.38.2) (2024.9.11)\n",
            "Requirement already satisfied: tokenizers<0.19,>=0.14 in /usr/local/lib/python3.10/dist-packages (from transformers==4.38.2->transformers[torch]==4.38.2) (0.15.2)\n",
            "Requirement already satisfied: safetensors>=0.4.1 in /usr/local/lib/python3.10/dist-packages (from transformers==4.38.2->transformers[torch]==4.38.2) (0.4.5)\n",
            "Requirement already satisfied: torch in /usr/local/lib/python3.10/dist-packages (from transformers[torch]==4.38.2) (2.5.0+cu121)\n",
            "Requirement already satisfied: accelerate>=0.21.0 in /usr/local/lib/python3.10/dist-packages (from transformers[torch]==4.38.2) (0.34.2)\n",
            "Requirement already satisfied: absl-py>=0.4 in /usr/local/lib/python3.10/dist-packages (from tensorboard) (1.4.0)\n",
            "Requirement already satisfied: grpcio>=1.48.2 in /usr/local/lib/python3.10/dist-packages (from tensorboard) (1.64.1)\n",
            "Requirement already satisfied: markdown>=2.6.8 in /usr/local/lib/python3.10/dist-packages (from tensorboard) (3.7)\n",
            "Requirement already satisfied: protobuf!=4.24.0,<5.0.0,>=3.19.6 in /usr/local/lib/python3.10/dist-packages (from tensorboard) (3.20.3)\n",
            "Requirement already satisfied: setuptools>=41.0.0 in /usr/local/lib/python3.10/dist-packages (from tensorboard) (75.1.0)\n",
            "Requirement already satisfied: six>1.9 in /usr/local/lib/python3.10/dist-packages (from tensorboard) (1.16.0)\n",
            "Requirement already satisfied: tensorboard-data-server<0.8.0,>=0.7.0 in /usr/local/lib/python3.10/dist-packages (from tensorboard) (0.7.2)\n",
            "Requirement already satisfied: werkzeug>=1.0.1 in /usr/local/lib/python3.10/dist-packages (from tensorboard) (3.0.6)\n",
            "Requirement already satisfied: psutil in /usr/local/lib/python3.10/dist-packages (from accelerate>=0.21.0->transformers[torch]==4.38.2) (5.9.5)\n",
            "Requirement already satisfied: aiohappyeyeballs>=2.3.0 in /usr/local/lib/python3.10/dist-packages (from aiohttp->datasets==2.18.0) (2.4.3)\n",
            "Requirement already satisfied: aiosignal>=1.1.2 in /usr/local/lib/python3.10/dist-packages (from aiohttp->datasets==2.18.0) (1.3.1)\n",
            "Requirement already satisfied: attrs>=17.3.0 in /usr/local/lib/python3.10/dist-packages (from aiohttp->datasets==2.18.0) (24.2.0)\n",
            "Requirement already satisfied: frozenlist>=1.1.1 in /usr/local/lib/python3.10/dist-packages (from aiohttp->datasets==2.18.0) (1.5.0)\n",
            "Requirement already satisfied: multidict<7.0,>=4.5 in /usr/local/lib/python3.10/dist-packages (from aiohttp->datasets==2.18.0) (6.1.0)\n",
            "Requirement already satisfied: yarl<2.0,>=1.12.0 in /usr/local/lib/python3.10/dist-packages (from aiohttp->datasets==2.18.0) (1.17.0)\n",
            "Requirement already satisfied: async-timeout<5.0,>=4.0 in /usr/local/lib/python3.10/dist-packages (from aiohttp->datasets==2.18.0) (4.0.3)\n",
            "Requirement already satisfied: typing-extensions>=3.7.4.3 in /usr/local/lib/python3.10/dist-packages (from huggingface-hub>=0.19.4->datasets==2.18.0) (4.12.2)\n",
            "Requirement already satisfied: charset-normalizer<4,>=2 in /usr/local/lib/python3.10/dist-packages (from requests>=2.19.0->datasets==2.18.0) (3.4.0)\n",
            "Requirement already satisfied: idna<4,>=2.5 in /usr/local/lib/python3.10/dist-packages (from requests>=2.19.0->datasets==2.18.0) (3.10)\n",
            "Requirement already satisfied: urllib3<3,>=1.21.1 in /usr/local/lib/python3.10/dist-packages (from requests>=2.19.0->datasets==2.18.0) (2.2.3)\n",
            "Requirement already satisfied: certifi>=2017.4.17 in /usr/local/lib/python3.10/dist-packages (from requests>=2.19.0->datasets==2.18.0) (2024.8.30)\n",
            "Requirement already satisfied: networkx in /usr/local/lib/python3.10/dist-packages (from torch->transformers[torch]==4.38.2) (3.4.2)\n",
            "Requirement already satisfied: jinja2 in /usr/local/lib/python3.10/dist-packages (from torch->transformers[torch]==4.38.2) (3.1.4)\n",
            "Requirement already satisfied: sympy==1.13.1 in /usr/local/lib/python3.10/dist-packages (from torch->transformers[torch]==4.38.2) (1.13.1)\n",
            "Requirement already satisfied: mpmath<1.4,>=1.1.0 in /usr/local/lib/python3.10/dist-packages (from sympy==1.13.1->torch->transformers[torch]==4.38.2) (1.3.0)\n",
            "Requirement already satisfied: MarkupSafe>=2.1.1 in /usr/local/lib/python3.10/dist-packages (from werkzeug>=1.0.1->tensorboard) (3.0.2)\n",
            "Requirement already satisfied: python-dateutil>=2.8.2 in /usr/local/lib/python3.10/dist-packages (from pandas->datasets==2.18.0) (2.8.2)\n",
            "Requirement already satisfied: pytz>=2020.1 in /usr/local/lib/python3.10/dist-packages (from pandas->datasets==2.18.0) (2024.2)\n",
            "Requirement already satisfied: tzdata>=2022.7 in /usr/local/lib/python3.10/dist-packages (from pandas->datasets==2.18.0) (2024.2)\n",
            "Requirement already satisfied: propcache>=0.2.0 in /usr/local/lib/python3.10/dist-packages (from yarl<2.0,>=1.12.0->aiohttp->datasets==2.18.0) (0.2.0)\n"
          ]
        }
      ],
      "source": [
        "!pip install datasets==2.18.0 transformers[torch]==4.38.2 tensorboard"
      ]
    },
    {
      "cell_type": "code",
      "source": [
        "from transformers import AutoTokenizer, AutoModelForSeq2SeqLM, Seq2SeqTrainingArguments, DataCollatorForSeq2Seq, Seq2SeqTrainer\n",
        "from sklearn.model_selection import train_test_split\n",
        "import pandas as pd\n",
        "from datasets import Dataset, load_metric\n",
        "import numpy as np\n",
        "import torch\n",
        "from huggingface_hub import notebook_login\n",
        "import evaluate"
      ],
      "metadata": {
        "id": "SxdgAzqpDYuX"
      },
      "execution_count": null,
      "outputs": []
    },
    {
      "cell_type": "markdown",
      "source": [
        "## Load Model"
      ],
      "metadata": {
        "id": "pKeqqZbKCV5V"
      }
    },
    {
      "cell_type": "code",
      "source": [
        "model_name = \"facebook/nllb-200-distilled-600M\"\n",
        "# lug_Latn actually already exists as a language code\n",
        "tokenizer = AutoTokenizer.from_pretrained(model_name, src_lang=\"eng_Latn\", target_lang=\"lug_Latn\")\n",
        "model = AutoModelForSeq2SeqLM.from_pretrained(model_name)"
      ],
      "metadata": {
        "id": "Pr6yX9XSDRwQ",
        "colab": {
          "base_uri": "https://localhost:8080/"
        },
        "outputId": "83b03ebf-33ae-4609-cbf7-5d1778c51a84"
      },
      "execution_count": null,
      "outputs": [
        {
          "output_type": "stream",
          "name": "stderr",
          "text": [
            "/usr/local/lib/python3.10/dist-packages/huggingface_hub/file_download.py:1150: FutureWarning: `resume_download` is deprecated and will be removed in version 1.0.0. Downloads always resume when possible. If you want to force a new download, use `force_download=True`.\n",
            "  warnings.warn(\n",
            "/usr/local/lib/python3.10/dist-packages/huggingface_hub/utils/_token.py:89: UserWarning: \n",
            "The secret `HF_TOKEN` does not exist in your Colab secrets.\n",
            "To authenticate with the Hugging Face Hub, create a token in your settings tab (https://huggingface.co/settings/tokens), set it as secret in your Google Colab and restart your session.\n",
            "You will be able to reuse this secret in all of your notebooks.\n",
            "Please note that authentication is recommended but still optional to access public models or datasets.\n",
            "  warnings.warn(\n"
          ]
        }
      ]
    },
    {
      "cell_type": "markdown",
      "source": [
        "Just a test sentence"
      ],
      "metadata": {
        "id": "uAs1H9zyK3oW"
      }
    },
    {
      "cell_type": "code",
      "source": [
        "article = \"All refugees were requested to register with the chairman.\"\n",
        "inputs = tokenizer(article, return_tensors=\"pt\")"
      ],
      "metadata": {
        "id": "VSM6Frn6FCNU"
      },
      "execution_count": null,
      "outputs": []
    },
    {
      "cell_type": "code",
      "source": [
        "translated_tokens = model.generate(\n",
        "    **inputs, forced_bos_token_id=tokenizer.lang_code_to_id[\"lug_Latn\"],\n",
        "    max_length=360,\n",
        ")\n",
        "tokenizer.batch_decode(translated_tokens, skip_special_tokens=True)[0]"
      ],
      "metadata": {
        "colab": {
          "base_uri": "https://localhost:8080/",
          "height": 72
        },
        "id": "UB-AcazVK8nP",
        "outputId": "0d3de9e2-be21-4af4-b7c0-779e14162b30"
      },
      "execution_count": null,
      "outputs": [
        {
          "output_type": "stream",
          "name": "stderr",
          "text": [
            "the `lang_code_to_id` attribute is deprecated. The logic is natively handled in the `tokenizer.adder_tokens_decoder` this attribute will be removed in `transformers` v4.38\n"
          ]
        },
        {
          "output_type": "execute_result",
          "data": {
            "text/plain": [
              "\"Abanoonyi b'obubudamu bonna basabiddwa okwewandiisa mu ssentebe.\""
            ],
            "application/vnd.google.colaboratory.intrinsic+json": {
              "type": "string"
            }
          },
          "metadata": {},
          "execution_count": 6
        }
      ]
    },
    {
      "cell_type": "markdown",
      "source": [
        "# Freeze some layers to make the model smaller\n",
        "- I will experiment by freezing the entire encoder, which is less task-specific compared to the decoder (in translation)"
      ],
      "metadata": {
        "id": "LncLkPBbLR2y"
      }
    },
    {
      "cell_type": "code",
      "source": [
        "for param in model.model.encoder.parameters():\n",
        "    param.requires_grad = False\n",
        "\n",
        "for name, param in model.model.encoder.named_parameters():\n",
        "    if param.requires_grad:\n",
        "        print(f\"{name} is trainable\")\n",
        "    else:\n",
        "        print(f\"{name} is frozen\")"
      ],
      "metadata": {
        "colab": {
          "base_uri": "https://localhost:8080/"
        },
        "id": "rD7ooO0WK_Ym",
        "outputId": "36052a24-e972-47da-d378-4945aa8c3595"
      },
      "execution_count": null,
      "outputs": [
        {
          "output_type": "stream",
          "name": "stdout",
          "text": [
            "embed_tokens.weight is frozen\n",
            "layers.0.self_attn.k_proj.weight is frozen\n",
            "layers.0.self_attn.k_proj.bias is frozen\n",
            "layers.0.self_attn.v_proj.weight is frozen\n",
            "layers.0.self_attn.v_proj.bias is frozen\n",
            "layers.0.self_attn.q_proj.weight is frozen\n",
            "layers.0.self_attn.q_proj.bias is frozen\n",
            "layers.0.self_attn.out_proj.weight is frozen\n",
            "layers.0.self_attn.out_proj.bias is frozen\n",
            "layers.0.self_attn_layer_norm.weight is frozen\n",
            "layers.0.self_attn_layer_norm.bias is frozen\n",
            "layers.0.fc1.weight is frozen\n",
            "layers.0.fc1.bias is frozen\n",
            "layers.0.fc2.weight is frozen\n",
            "layers.0.fc2.bias is frozen\n",
            "layers.0.final_layer_norm.weight is frozen\n",
            "layers.0.final_layer_norm.bias is frozen\n",
            "layers.1.self_attn.k_proj.weight is frozen\n",
            "layers.1.self_attn.k_proj.bias is frozen\n",
            "layers.1.self_attn.v_proj.weight is frozen\n",
            "layers.1.self_attn.v_proj.bias is frozen\n",
            "layers.1.self_attn.q_proj.weight is frozen\n",
            "layers.1.self_attn.q_proj.bias is frozen\n",
            "layers.1.self_attn.out_proj.weight is frozen\n",
            "layers.1.self_attn.out_proj.bias is frozen\n",
            "layers.1.self_attn_layer_norm.weight is frozen\n",
            "layers.1.self_attn_layer_norm.bias is frozen\n",
            "layers.1.fc1.weight is frozen\n",
            "layers.1.fc1.bias is frozen\n",
            "layers.1.fc2.weight is frozen\n",
            "layers.1.fc2.bias is frozen\n",
            "layers.1.final_layer_norm.weight is frozen\n",
            "layers.1.final_layer_norm.bias is frozen\n",
            "layers.2.self_attn.k_proj.weight is frozen\n",
            "layers.2.self_attn.k_proj.bias is frozen\n",
            "layers.2.self_attn.v_proj.weight is frozen\n",
            "layers.2.self_attn.v_proj.bias is frozen\n",
            "layers.2.self_attn.q_proj.weight is frozen\n",
            "layers.2.self_attn.q_proj.bias is frozen\n",
            "layers.2.self_attn.out_proj.weight is frozen\n",
            "layers.2.self_attn.out_proj.bias is frozen\n",
            "layers.2.self_attn_layer_norm.weight is frozen\n",
            "layers.2.self_attn_layer_norm.bias is frozen\n",
            "layers.2.fc1.weight is frozen\n",
            "layers.2.fc1.bias is frozen\n",
            "layers.2.fc2.weight is frozen\n",
            "layers.2.fc2.bias is frozen\n",
            "layers.2.final_layer_norm.weight is frozen\n",
            "layers.2.final_layer_norm.bias is frozen\n",
            "layers.3.self_attn.k_proj.weight is frozen\n",
            "layers.3.self_attn.k_proj.bias is frozen\n",
            "layers.3.self_attn.v_proj.weight is frozen\n",
            "layers.3.self_attn.v_proj.bias is frozen\n",
            "layers.3.self_attn.q_proj.weight is frozen\n",
            "layers.3.self_attn.q_proj.bias is frozen\n",
            "layers.3.self_attn.out_proj.weight is frozen\n",
            "layers.3.self_attn.out_proj.bias is frozen\n",
            "layers.3.self_attn_layer_norm.weight is frozen\n",
            "layers.3.self_attn_layer_norm.bias is frozen\n",
            "layers.3.fc1.weight is frozen\n",
            "layers.3.fc1.bias is frozen\n",
            "layers.3.fc2.weight is frozen\n",
            "layers.3.fc2.bias is frozen\n",
            "layers.3.final_layer_norm.weight is frozen\n",
            "layers.3.final_layer_norm.bias is frozen\n",
            "layers.4.self_attn.k_proj.weight is frozen\n",
            "layers.4.self_attn.k_proj.bias is frozen\n",
            "layers.4.self_attn.v_proj.weight is frozen\n",
            "layers.4.self_attn.v_proj.bias is frozen\n",
            "layers.4.self_attn.q_proj.weight is frozen\n",
            "layers.4.self_attn.q_proj.bias is frozen\n",
            "layers.4.self_attn.out_proj.weight is frozen\n",
            "layers.4.self_attn.out_proj.bias is frozen\n",
            "layers.4.self_attn_layer_norm.weight is frozen\n",
            "layers.4.self_attn_layer_norm.bias is frozen\n",
            "layers.4.fc1.weight is frozen\n",
            "layers.4.fc1.bias is frozen\n",
            "layers.4.fc2.weight is frozen\n",
            "layers.4.fc2.bias is frozen\n",
            "layers.4.final_layer_norm.weight is frozen\n",
            "layers.4.final_layer_norm.bias is frozen\n",
            "layers.5.self_attn.k_proj.weight is frozen\n",
            "layers.5.self_attn.k_proj.bias is frozen\n",
            "layers.5.self_attn.v_proj.weight is frozen\n",
            "layers.5.self_attn.v_proj.bias is frozen\n",
            "layers.5.self_attn.q_proj.weight is frozen\n",
            "layers.5.self_attn.q_proj.bias is frozen\n",
            "layers.5.self_attn.out_proj.weight is frozen\n",
            "layers.5.self_attn.out_proj.bias is frozen\n",
            "layers.5.self_attn_layer_norm.weight is frozen\n",
            "layers.5.self_attn_layer_norm.bias is frozen\n",
            "layers.5.fc1.weight is frozen\n",
            "layers.5.fc1.bias is frozen\n",
            "layers.5.fc2.weight is frozen\n",
            "layers.5.fc2.bias is frozen\n",
            "layers.5.final_layer_norm.weight is frozen\n",
            "layers.5.final_layer_norm.bias is frozen\n",
            "layers.6.self_attn.k_proj.weight is frozen\n",
            "layers.6.self_attn.k_proj.bias is frozen\n",
            "layers.6.self_attn.v_proj.weight is frozen\n",
            "layers.6.self_attn.v_proj.bias is frozen\n",
            "layers.6.self_attn.q_proj.weight is frozen\n",
            "layers.6.self_attn.q_proj.bias is frozen\n",
            "layers.6.self_attn.out_proj.weight is frozen\n",
            "layers.6.self_attn.out_proj.bias is frozen\n",
            "layers.6.self_attn_layer_norm.weight is frozen\n",
            "layers.6.self_attn_layer_norm.bias is frozen\n",
            "layers.6.fc1.weight is frozen\n",
            "layers.6.fc1.bias is frozen\n",
            "layers.6.fc2.weight is frozen\n",
            "layers.6.fc2.bias is frozen\n",
            "layers.6.final_layer_norm.weight is frozen\n",
            "layers.6.final_layer_norm.bias is frozen\n",
            "layers.7.self_attn.k_proj.weight is frozen\n",
            "layers.7.self_attn.k_proj.bias is frozen\n",
            "layers.7.self_attn.v_proj.weight is frozen\n",
            "layers.7.self_attn.v_proj.bias is frozen\n",
            "layers.7.self_attn.q_proj.weight is frozen\n",
            "layers.7.self_attn.q_proj.bias is frozen\n",
            "layers.7.self_attn.out_proj.weight is frozen\n",
            "layers.7.self_attn.out_proj.bias is frozen\n",
            "layers.7.self_attn_layer_norm.weight is frozen\n",
            "layers.7.self_attn_layer_norm.bias is frozen\n",
            "layers.7.fc1.weight is frozen\n",
            "layers.7.fc1.bias is frozen\n",
            "layers.7.fc2.weight is frozen\n",
            "layers.7.fc2.bias is frozen\n",
            "layers.7.final_layer_norm.weight is frozen\n",
            "layers.7.final_layer_norm.bias is frozen\n",
            "layers.8.self_attn.k_proj.weight is frozen\n",
            "layers.8.self_attn.k_proj.bias is frozen\n",
            "layers.8.self_attn.v_proj.weight is frozen\n",
            "layers.8.self_attn.v_proj.bias is frozen\n",
            "layers.8.self_attn.q_proj.weight is frozen\n",
            "layers.8.self_attn.q_proj.bias is frozen\n",
            "layers.8.self_attn.out_proj.weight is frozen\n",
            "layers.8.self_attn.out_proj.bias is frozen\n",
            "layers.8.self_attn_layer_norm.weight is frozen\n",
            "layers.8.self_attn_layer_norm.bias is frozen\n",
            "layers.8.fc1.weight is frozen\n",
            "layers.8.fc1.bias is frozen\n",
            "layers.8.fc2.weight is frozen\n",
            "layers.8.fc2.bias is frozen\n",
            "layers.8.final_layer_norm.weight is frozen\n",
            "layers.8.final_layer_norm.bias is frozen\n",
            "layers.9.self_attn.k_proj.weight is frozen\n",
            "layers.9.self_attn.k_proj.bias is frozen\n",
            "layers.9.self_attn.v_proj.weight is frozen\n",
            "layers.9.self_attn.v_proj.bias is frozen\n",
            "layers.9.self_attn.q_proj.weight is frozen\n",
            "layers.9.self_attn.q_proj.bias is frozen\n",
            "layers.9.self_attn.out_proj.weight is frozen\n",
            "layers.9.self_attn.out_proj.bias is frozen\n",
            "layers.9.self_attn_layer_norm.weight is frozen\n",
            "layers.9.self_attn_layer_norm.bias is frozen\n",
            "layers.9.fc1.weight is frozen\n",
            "layers.9.fc1.bias is frozen\n",
            "layers.9.fc2.weight is frozen\n",
            "layers.9.fc2.bias is frozen\n",
            "layers.9.final_layer_norm.weight is frozen\n",
            "layers.9.final_layer_norm.bias is frozen\n",
            "layers.10.self_attn.k_proj.weight is frozen\n",
            "layers.10.self_attn.k_proj.bias is frozen\n",
            "layers.10.self_attn.v_proj.weight is frozen\n",
            "layers.10.self_attn.v_proj.bias is frozen\n",
            "layers.10.self_attn.q_proj.weight is frozen\n",
            "layers.10.self_attn.q_proj.bias is frozen\n",
            "layers.10.self_attn.out_proj.weight is frozen\n",
            "layers.10.self_attn.out_proj.bias is frozen\n",
            "layers.10.self_attn_layer_norm.weight is frozen\n",
            "layers.10.self_attn_layer_norm.bias is frozen\n",
            "layers.10.fc1.weight is frozen\n",
            "layers.10.fc1.bias is frozen\n",
            "layers.10.fc2.weight is frozen\n",
            "layers.10.fc2.bias is frozen\n",
            "layers.10.final_layer_norm.weight is frozen\n",
            "layers.10.final_layer_norm.bias is frozen\n",
            "layers.11.self_attn.k_proj.weight is frozen\n",
            "layers.11.self_attn.k_proj.bias is frozen\n",
            "layers.11.self_attn.v_proj.weight is frozen\n",
            "layers.11.self_attn.v_proj.bias is frozen\n",
            "layers.11.self_attn.q_proj.weight is frozen\n",
            "layers.11.self_attn.q_proj.bias is frozen\n",
            "layers.11.self_attn.out_proj.weight is frozen\n",
            "layers.11.self_attn.out_proj.bias is frozen\n",
            "layers.11.self_attn_layer_norm.weight is frozen\n",
            "layers.11.self_attn_layer_norm.bias is frozen\n",
            "layers.11.fc1.weight is frozen\n",
            "layers.11.fc1.bias is frozen\n",
            "layers.11.fc2.weight is frozen\n",
            "layers.11.fc2.bias is frozen\n",
            "layers.11.final_layer_norm.weight is frozen\n",
            "layers.11.final_layer_norm.bias is frozen\n",
            "layer_norm.weight is frozen\n",
            "layer_norm.bias is frozen\n"
          ]
        }
      ]
    },
    {
      "cell_type": "markdown",
      "source": [
        "## Load Data"
      ],
      "metadata": {
        "id": "hQQWNKsASIqj"
      }
    },
    {
      "cell_type": "code",
      "source": [
        "df = pd.read_csv(\"gdrive/My Drive/nllb-finetuning/Luganda.csv\", encoding=\"latin-1\")\n",
        "print(df.shape)\n",
        "print(df.columns)\n",
        "df.head()"
      ],
      "metadata": {
        "colab": {
          "base_uri": "https://localhost:8080/",
          "height": 340
        },
        "id": "C78NfQYqSFwK",
        "outputId": "0d6821f6-2330-4313-c24e-e72aff77f1f3"
      },
      "execution_count": null,
      "outputs": [
        {
          "output_type": "stream",
          "name": "stdout",
          "text": [
            "(16000, 4)\n",
            "Index(['English', 'Luganda', 'Unnamed: 2', 'Unnamed: 3'], dtype='object')\n"
          ]
        },
        {
          "output_type": "execute_result",
          "data": {
            "text/plain": [
              "                                             English  \\\n",
              "0  All refugees were requested to register with t...   \n",
              "1     They called for a refugees' meeting yesterday.   \n",
              "2  Refugees had misunderstandings between   thems...   \n",
              "3  We were urged to welcome refugees into our com...   \n",
              "4  More development is achieved when we work toge...   \n",
              "\n",
              "                                             Luganda  Unnamed: 2  Unnamed: 3  \n",
              "0  Abanoonyiboobubudamu bonna baasabiddwa beewand...         NaN         NaN  \n",
              "1  Baayise olukungaana lw'abanoonyiboobubudamu eg...         NaN         NaN  \n",
              "2  Abanoonyiboobubudamu b'abadde n'obutakkaanya w...         NaN         NaN  \n",
              "3  Twakubirizibwa okwaniriza abanoonyiboobubudamu...         NaN         NaN  \n",
              "4  Bwe tukolera awamu enkulaakulana enyingi efuni...         NaN         NaN  "
            ],
            "text/html": [
              "\n",
              "  <div id=\"df-70ab5dd8-647e-46cd-9c41-9d20656d2e37\" class=\"colab-df-container\">\n",
              "    <div>\n",
              "<style scoped>\n",
              "    .dataframe tbody tr th:only-of-type {\n",
              "        vertical-align: middle;\n",
              "    }\n",
              "\n",
              "    .dataframe tbody tr th {\n",
              "        vertical-align: top;\n",
              "    }\n",
              "\n",
              "    .dataframe thead th {\n",
              "        text-align: right;\n",
              "    }\n",
              "</style>\n",
              "<table border=\"1\" class=\"dataframe\">\n",
              "  <thead>\n",
              "    <tr style=\"text-align: right;\">\n",
              "      <th></th>\n",
              "      <th>English</th>\n",
              "      <th>Luganda</th>\n",
              "      <th>Unnamed: 2</th>\n",
              "      <th>Unnamed: 3</th>\n",
              "    </tr>\n",
              "  </thead>\n",
              "  <tbody>\n",
              "    <tr>\n",
              "      <th>0</th>\n",
              "      <td>All refugees were requested to register with t...</td>\n",
              "      <td>Abanoonyiboobubudamu bonna baasabiddwa beewand...</td>\n",
              "      <td>NaN</td>\n",
              "      <td>NaN</td>\n",
              "    </tr>\n",
              "    <tr>\n",
              "      <th>1</th>\n",
              "      <td>They called for a refugees' meeting yesterday.</td>\n",
              "      <td>Baayise olukungaana lw'abanoonyiboobubudamu eg...</td>\n",
              "      <td>NaN</td>\n",
              "      <td>NaN</td>\n",
              "    </tr>\n",
              "    <tr>\n",
              "      <th>2</th>\n",
              "      <td>Refugees had misunderstandings between   thems...</td>\n",
              "      <td>Abanoonyiboobubudamu b'abadde n'obutakkaanya w...</td>\n",
              "      <td>NaN</td>\n",
              "      <td>NaN</td>\n",
              "    </tr>\n",
              "    <tr>\n",
              "      <th>3</th>\n",
              "      <td>We were urged to welcome refugees into our com...</td>\n",
              "      <td>Twakubirizibwa okwaniriza abanoonyiboobubudamu...</td>\n",
              "      <td>NaN</td>\n",
              "      <td>NaN</td>\n",
              "    </tr>\n",
              "    <tr>\n",
              "      <th>4</th>\n",
              "      <td>More development is achieved when we work toge...</td>\n",
              "      <td>Bwe tukolera awamu enkulaakulana enyingi efuni...</td>\n",
              "      <td>NaN</td>\n",
              "      <td>NaN</td>\n",
              "    </tr>\n",
              "  </tbody>\n",
              "</table>\n",
              "</div>\n",
              "    <div class=\"colab-df-buttons\">\n",
              "\n",
              "  <div class=\"colab-df-container\">\n",
              "    <button class=\"colab-df-convert\" onclick=\"convertToInteractive('df-70ab5dd8-647e-46cd-9c41-9d20656d2e37')\"\n",
              "            title=\"Convert this dataframe to an interactive table.\"\n",
              "            style=\"display:none;\">\n",
              "\n",
              "  <svg xmlns=\"http://www.w3.org/2000/svg\" height=\"24px\" viewBox=\"0 -960 960 960\">\n",
              "    <path d=\"M120-120v-720h720v720H120Zm60-500h600v-160H180v160Zm220 220h160v-160H400v160Zm0 220h160v-160H400v160ZM180-400h160v-160H180v160Zm440 0h160v-160H620v160ZM180-180h160v-160H180v160Zm440 0h160v-160H620v160Z\"/>\n",
              "  </svg>\n",
              "    </button>\n",
              "\n",
              "  <style>\n",
              "    .colab-df-container {\n",
              "      display:flex;\n",
              "      gap: 12px;\n",
              "    }\n",
              "\n",
              "    .colab-df-convert {\n",
              "      background-color: #E8F0FE;\n",
              "      border: none;\n",
              "      border-radius: 50%;\n",
              "      cursor: pointer;\n",
              "      display: none;\n",
              "      fill: #1967D2;\n",
              "      height: 32px;\n",
              "      padding: 0 0 0 0;\n",
              "      width: 32px;\n",
              "    }\n",
              "\n",
              "    .colab-df-convert:hover {\n",
              "      background-color: #E2EBFA;\n",
              "      box-shadow: 0px 1px 2px rgba(60, 64, 67, 0.3), 0px 1px 3px 1px rgba(60, 64, 67, 0.15);\n",
              "      fill: #174EA6;\n",
              "    }\n",
              "\n",
              "    .colab-df-buttons div {\n",
              "      margin-bottom: 4px;\n",
              "    }\n",
              "\n",
              "    [theme=dark] .colab-df-convert {\n",
              "      background-color: #3B4455;\n",
              "      fill: #D2E3FC;\n",
              "    }\n",
              "\n",
              "    [theme=dark] .colab-df-convert:hover {\n",
              "      background-color: #434B5C;\n",
              "      box-shadow: 0px 1px 3px 1px rgba(0, 0, 0, 0.15);\n",
              "      filter: drop-shadow(0px 1px 2px rgba(0, 0, 0, 0.3));\n",
              "      fill: #FFFFFF;\n",
              "    }\n",
              "  </style>\n",
              "\n",
              "    <script>\n",
              "      const buttonEl =\n",
              "        document.querySelector('#df-70ab5dd8-647e-46cd-9c41-9d20656d2e37 button.colab-df-convert');\n",
              "      buttonEl.style.display =\n",
              "        google.colab.kernel.accessAllowed ? 'block' : 'none';\n",
              "\n",
              "      async function convertToInteractive(key) {\n",
              "        const element = document.querySelector('#df-70ab5dd8-647e-46cd-9c41-9d20656d2e37');\n",
              "        const dataTable =\n",
              "          await google.colab.kernel.invokeFunction('convertToInteractive',\n",
              "                                                    [key], {});\n",
              "        if (!dataTable) return;\n",
              "\n",
              "        const docLinkHtml = 'Like what you see? Visit the ' +\n",
              "          '<a target=\"_blank\" href=https://colab.research.google.com/notebooks/data_table.ipynb>data table notebook</a>'\n",
              "          + ' to learn more about interactive tables.';\n",
              "        element.innerHTML = '';\n",
              "        dataTable['output_type'] = 'display_data';\n",
              "        await google.colab.output.renderOutput(dataTable, element);\n",
              "        const docLink = document.createElement('div');\n",
              "        docLink.innerHTML = docLinkHtml;\n",
              "        element.appendChild(docLink);\n",
              "      }\n",
              "    </script>\n",
              "  </div>\n",
              "\n",
              "\n",
              "<div id=\"df-b55640c3-08e5-463f-8d86-7037c048f7df\">\n",
              "  <button class=\"colab-df-quickchart\" onclick=\"quickchart('df-b55640c3-08e5-463f-8d86-7037c048f7df')\"\n",
              "            title=\"Suggest charts\"\n",
              "            style=\"display:none;\">\n",
              "\n",
              "<svg xmlns=\"http://www.w3.org/2000/svg\" height=\"24px\"viewBox=\"0 0 24 24\"\n",
              "     width=\"24px\">\n",
              "    <g>\n",
              "        <path d=\"M19 3H5c-1.1 0-2 .9-2 2v14c0 1.1.9 2 2 2h14c1.1 0 2-.9 2-2V5c0-1.1-.9-2-2-2zM9 17H7v-7h2v7zm4 0h-2V7h2v10zm4 0h-2v-4h2v4z\"/>\n",
              "    </g>\n",
              "</svg>\n",
              "  </button>\n",
              "\n",
              "<style>\n",
              "  .colab-df-quickchart {\n",
              "      --bg-color: #E8F0FE;\n",
              "      --fill-color: #1967D2;\n",
              "      --hover-bg-color: #E2EBFA;\n",
              "      --hover-fill-color: #174EA6;\n",
              "      --disabled-fill-color: #AAA;\n",
              "      --disabled-bg-color: #DDD;\n",
              "  }\n",
              "\n",
              "  [theme=dark] .colab-df-quickchart {\n",
              "      --bg-color: #3B4455;\n",
              "      --fill-color: #D2E3FC;\n",
              "      --hover-bg-color: #434B5C;\n",
              "      --hover-fill-color: #FFFFFF;\n",
              "      --disabled-bg-color: #3B4455;\n",
              "      --disabled-fill-color: #666;\n",
              "  }\n",
              "\n",
              "  .colab-df-quickchart {\n",
              "    background-color: var(--bg-color);\n",
              "    border: none;\n",
              "    border-radius: 50%;\n",
              "    cursor: pointer;\n",
              "    display: none;\n",
              "    fill: var(--fill-color);\n",
              "    height: 32px;\n",
              "    padding: 0;\n",
              "    width: 32px;\n",
              "  }\n",
              "\n",
              "  .colab-df-quickchart:hover {\n",
              "    background-color: var(--hover-bg-color);\n",
              "    box-shadow: 0 1px 2px rgba(60, 64, 67, 0.3), 0 1px 3px 1px rgba(60, 64, 67, 0.15);\n",
              "    fill: var(--button-hover-fill-color);\n",
              "  }\n",
              "\n",
              "  .colab-df-quickchart-complete:disabled,\n",
              "  .colab-df-quickchart-complete:disabled:hover {\n",
              "    background-color: var(--disabled-bg-color);\n",
              "    fill: var(--disabled-fill-color);\n",
              "    box-shadow: none;\n",
              "  }\n",
              "\n",
              "  .colab-df-spinner {\n",
              "    border: 2px solid var(--fill-color);\n",
              "    border-color: transparent;\n",
              "    border-bottom-color: var(--fill-color);\n",
              "    animation:\n",
              "      spin 1s steps(1) infinite;\n",
              "  }\n",
              "\n",
              "  @keyframes spin {\n",
              "    0% {\n",
              "      border-color: transparent;\n",
              "      border-bottom-color: var(--fill-color);\n",
              "      border-left-color: var(--fill-color);\n",
              "    }\n",
              "    20% {\n",
              "      border-color: transparent;\n",
              "      border-left-color: var(--fill-color);\n",
              "      border-top-color: var(--fill-color);\n",
              "    }\n",
              "    30% {\n",
              "      border-color: transparent;\n",
              "      border-left-color: var(--fill-color);\n",
              "      border-top-color: var(--fill-color);\n",
              "      border-right-color: var(--fill-color);\n",
              "    }\n",
              "    40% {\n",
              "      border-color: transparent;\n",
              "      border-right-color: var(--fill-color);\n",
              "      border-top-color: var(--fill-color);\n",
              "    }\n",
              "    60% {\n",
              "      border-color: transparent;\n",
              "      border-right-color: var(--fill-color);\n",
              "    }\n",
              "    80% {\n",
              "      border-color: transparent;\n",
              "      border-right-color: var(--fill-color);\n",
              "      border-bottom-color: var(--fill-color);\n",
              "    }\n",
              "    90% {\n",
              "      border-color: transparent;\n",
              "      border-bottom-color: var(--fill-color);\n",
              "    }\n",
              "  }\n",
              "</style>\n",
              "\n",
              "  <script>\n",
              "    async function quickchart(key) {\n",
              "      const quickchartButtonEl =\n",
              "        document.querySelector('#' + key + ' button');\n",
              "      quickchartButtonEl.disabled = true;  // To prevent multiple clicks.\n",
              "      quickchartButtonEl.classList.add('colab-df-spinner');\n",
              "      try {\n",
              "        const charts = await google.colab.kernel.invokeFunction(\n",
              "            'suggestCharts', [key], {});\n",
              "      } catch (error) {\n",
              "        console.error('Error during call to suggestCharts:', error);\n",
              "      }\n",
              "      quickchartButtonEl.classList.remove('colab-df-spinner');\n",
              "      quickchartButtonEl.classList.add('colab-df-quickchart-complete');\n",
              "    }\n",
              "    (() => {\n",
              "      let quickchartButtonEl =\n",
              "        document.querySelector('#df-b55640c3-08e5-463f-8d86-7037c048f7df button');\n",
              "      quickchartButtonEl.style.display =\n",
              "        google.colab.kernel.accessAllowed ? 'block' : 'none';\n",
              "    })();\n",
              "  </script>\n",
              "</div>\n",
              "\n",
              "    </div>\n",
              "  </div>\n"
            ],
            "application/vnd.google.colaboratory.intrinsic+json": {
              "type": "dataframe",
              "variable_name": "df",
              "summary": "{\n  \"name\": \"df\",\n  \"rows\": 16000,\n  \"fields\": [\n    {\n      \"column\": \"English\",\n      \"properties\": {\n        \"dtype\": \"string\",\n        \"num_unique_values\": 15019,\n        \"samples\": [\n          \"Uganda has seen a reduction in Acquired Immune Deficiency Syndrome infections in recent years\",\n          \"Investors need to diversify their businesses.\",\n          \"Road committees help in the road planning process.\"\n        ],\n        \"semantic_type\": \"\",\n        \"description\": \"\"\n      }\n    },\n    {\n      \"column\": \"Luganda\",\n      \"properties\": {\n        \"dtype\": \"string\",\n        \"num_unique_values\": 14999,\n        \"samples\": [\n          \"Abaagalana bangi bafuna okulambikibwa okuva eri abudaabuda nga balina obutategeeragana.\",\n          \"Abalimi bajja kuyiga engeri y'okulemerako mu mbeera ezitali nnungi.\",\n          \"Ebitongole tekijja kuba na nsimbi zimala kusasula bakonzi bonna mulundi gumu.\"\n        ],\n        \"semantic_type\": \"\",\n        \"description\": \"\"\n      }\n    },\n    {\n      \"column\": \"Unnamed: 2\",\n      \"properties\": {\n        \"dtype\": \"number\",\n        \"std\": null,\n        \"min\": null,\n        \"max\": null,\n        \"num_unique_values\": 0,\n        \"samples\": [],\n        \"semantic_type\": \"\",\n        \"description\": \"\"\n      }\n    },\n    {\n      \"column\": \"Unnamed: 3\",\n      \"properties\": {\n        \"dtype\": \"number\",\n        \"std\": null,\n        \"min\": 0.0,\n        \"max\": 0.0,\n        \"num_unique_values\": 1,\n        \"samples\": [],\n        \"semantic_type\": \"\",\n        \"description\": \"\"\n      }\n    }\n  ]\n}"
            }
          },
          "metadata": {},
          "execution_count": 8
        }
      ]
    },
    {
      "cell_type": "code",
      "source": [
        "# since df has 2 unnamed columns, let's remove them\n",
        "df.drop(df.columns[df.columns.str.contains('unnamed',case = False)],axis = 1, inplace = True)\n",
        "df.head()"
      ],
      "metadata": {
        "colab": {
          "base_uri": "https://localhost:8080/",
          "height": 204
        },
        "id": "9iVYydCdSQ09",
        "outputId": "f94be4f9-c83a-4ee3-adb0-61621fff2bad"
      },
      "execution_count": null,
      "outputs": [
        {
          "output_type": "execute_result",
          "data": {
            "text/plain": [
              "                                             English  \\\n",
              "0  All refugees were requested to register with t...   \n",
              "1     They called for a refugees' meeting yesterday.   \n",
              "2  Refugees had misunderstandings between   thems...   \n",
              "3  We were urged to welcome refugees into our com...   \n",
              "4  More development is achieved when we work toge...   \n",
              "\n",
              "                                             Luganda  \n",
              "0  Abanoonyiboobubudamu bonna baasabiddwa beewand...  \n",
              "1  Baayise olukungaana lw'abanoonyiboobubudamu eg...  \n",
              "2  Abanoonyiboobubudamu b'abadde n'obutakkaanya w...  \n",
              "3  Twakubirizibwa okwaniriza abanoonyiboobubudamu...  \n",
              "4  Bwe tukolera awamu enkulaakulana enyingi efuni...  "
            ],
            "text/html": [
              "\n",
              "  <div id=\"df-7b457b83-c9eb-4073-9a98-495d9cb66a3d\" class=\"colab-df-container\">\n",
              "    <div>\n",
              "<style scoped>\n",
              "    .dataframe tbody tr th:only-of-type {\n",
              "        vertical-align: middle;\n",
              "    }\n",
              "\n",
              "    .dataframe tbody tr th {\n",
              "        vertical-align: top;\n",
              "    }\n",
              "\n",
              "    .dataframe thead th {\n",
              "        text-align: right;\n",
              "    }\n",
              "</style>\n",
              "<table border=\"1\" class=\"dataframe\">\n",
              "  <thead>\n",
              "    <tr style=\"text-align: right;\">\n",
              "      <th></th>\n",
              "      <th>English</th>\n",
              "      <th>Luganda</th>\n",
              "    </tr>\n",
              "  </thead>\n",
              "  <tbody>\n",
              "    <tr>\n",
              "      <th>0</th>\n",
              "      <td>All refugees were requested to register with t...</td>\n",
              "      <td>Abanoonyiboobubudamu bonna baasabiddwa beewand...</td>\n",
              "    </tr>\n",
              "    <tr>\n",
              "      <th>1</th>\n",
              "      <td>They called for a refugees' meeting yesterday.</td>\n",
              "      <td>Baayise olukungaana lw'abanoonyiboobubudamu eg...</td>\n",
              "    </tr>\n",
              "    <tr>\n",
              "      <th>2</th>\n",
              "      <td>Refugees had misunderstandings between   thems...</td>\n",
              "      <td>Abanoonyiboobubudamu b'abadde n'obutakkaanya w...</td>\n",
              "    </tr>\n",
              "    <tr>\n",
              "      <th>3</th>\n",
              "      <td>We were urged to welcome refugees into our com...</td>\n",
              "      <td>Twakubirizibwa okwaniriza abanoonyiboobubudamu...</td>\n",
              "    </tr>\n",
              "    <tr>\n",
              "      <th>4</th>\n",
              "      <td>More development is achieved when we work toge...</td>\n",
              "      <td>Bwe tukolera awamu enkulaakulana enyingi efuni...</td>\n",
              "    </tr>\n",
              "  </tbody>\n",
              "</table>\n",
              "</div>\n",
              "    <div class=\"colab-df-buttons\">\n",
              "\n",
              "  <div class=\"colab-df-container\">\n",
              "    <button class=\"colab-df-convert\" onclick=\"convertToInteractive('df-7b457b83-c9eb-4073-9a98-495d9cb66a3d')\"\n",
              "            title=\"Convert this dataframe to an interactive table.\"\n",
              "            style=\"display:none;\">\n",
              "\n",
              "  <svg xmlns=\"http://www.w3.org/2000/svg\" height=\"24px\" viewBox=\"0 -960 960 960\">\n",
              "    <path d=\"M120-120v-720h720v720H120Zm60-500h600v-160H180v160Zm220 220h160v-160H400v160Zm0 220h160v-160H400v160ZM180-400h160v-160H180v160Zm440 0h160v-160H620v160ZM180-180h160v-160H180v160Zm440 0h160v-160H620v160Z\"/>\n",
              "  </svg>\n",
              "    </button>\n",
              "\n",
              "  <style>\n",
              "    .colab-df-container {\n",
              "      display:flex;\n",
              "      gap: 12px;\n",
              "    }\n",
              "\n",
              "    .colab-df-convert {\n",
              "      background-color: #E8F0FE;\n",
              "      border: none;\n",
              "      border-radius: 50%;\n",
              "      cursor: pointer;\n",
              "      display: none;\n",
              "      fill: #1967D2;\n",
              "      height: 32px;\n",
              "      padding: 0 0 0 0;\n",
              "      width: 32px;\n",
              "    }\n",
              "\n",
              "    .colab-df-convert:hover {\n",
              "      background-color: #E2EBFA;\n",
              "      box-shadow: 0px 1px 2px rgba(60, 64, 67, 0.3), 0px 1px 3px 1px rgba(60, 64, 67, 0.15);\n",
              "      fill: #174EA6;\n",
              "    }\n",
              "\n",
              "    .colab-df-buttons div {\n",
              "      margin-bottom: 4px;\n",
              "    }\n",
              "\n",
              "    [theme=dark] .colab-df-convert {\n",
              "      background-color: #3B4455;\n",
              "      fill: #D2E3FC;\n",
              "    }\n",
              "\n",
              "    [theme=dark] .colab-df-convert:hover {\n",
              "      background-color: #434B5C;\n",
              "      box-shadow: 0px 1px 3px 1px rgba(0, 0, 0, 0.15);\n",
              "      filter: drop-shadow(0px 1px 2px rgba(0, 0, 0, 0.3));\n",
              "      fill: #FFFFFF;\n",
              "    }\n",
              "  </style>\n",
              "\n",
              "    <script>\n",
              "      const buttonEl =\n",
              "        document.querySelector('#df-7b457b83-c9eb-4073-9a98-495d9cb66a3d button.colab-df-convert');\n",
              "      buttonEl.style.display =\n",
              "        google.colab.kernel.accessAllowed ? 'block' : 'none';\n",
              "\n",
              "      async function convertToInteractive(key) {\n",
              "        const element = document.querySelector('#df-7b457b83-c9eb-4073-9a98-495d9cb66a3d');\n",
              "        const dataTable =\n",
              "          await google.colab.kernel.invokeFunction('convertToInteractive',\n",
              "                                                    [key], {});\n",
              "        if (!dataTable) return;\n",
              "\n",
              "        const docLinkHtml = 'Like what you see? Visit the ' +\n",
              "          '<a target=\"_blank\" href=https://colab.research.google.com/notebooks/data_table.ipynb>data table notebook</a>'\n",
              "          + ' to learn more about interactive tables.';\n",
              "        element.innerHTML = '';\n",
              "        dataTable['output_type'] = 'display_data';\n",
              "        await google.colab.output.renderOutput(dataTable, element);\n",
              "        const docLink = document.createElement('div');\n",
              "        docLink.innerHTML = docLinkHtml;\n",
              "        element.appendChild(docLink);\n",
              "      }\n",
              "    </script>\n",
              "  </div>\n",
              "\n",
              "\n",
              "<div id=\"df-74a5cf79-87c5-4c1e-ba38-ce71e6e3be69\">\n",
              "  <button class=\"colab-df-quickchart\" onclick=\"quickchart('df-74a5cf79-87c5-4c1e-ba38-ce71e6e3be69')\"\n",
              "            title=\"Suggest charts\"\n",
              "            style=\"display:none;\">\n",
              "\n",
              "<svg xmlns=\"http://www.w3.org/2000/svg\" height=\"24px\"viewBox=\"0 0 24 24\"\n",
              "     width=\"24px\">\n",
              "    <g>\n",
              "        <path d=\"M19 3H5c-1.1 0-2 .9-2 2v14c0 1.1.9 2 2 2h14c1.1 0 2-.9 2-2V5c0-1.1-.9-2-2-2zM9 17H7v-7h2v7zm4 0h-2V7h2v10zm4 0h-2v-4h2v4z\"/>\n",
              "    </g>\n",
              "</svg>\n",
              "  </button>\n",
              "\n",
              "<style>\n",
              "  .colab-df-quickchart {\n",
              "      --bg-color: #E8F0FE;\n",
              "      --fill-color: #1967D2;\n",
              "      --hover-bg-color: #E2EBFA;\n",
              "      --hover-fill-color: #174EA6;\n",
              "      --disabled-fill-color: #AAA;\n",
              "      --disabled-bg-color: #DDD;\n",
              "  }\n",
              "\n",
              "  [theme=dark] .colab-df-quickchart {\n",
              "      --bg-color: #3B4455;\n",
              "      --fill-color: #D2E3FC;\n",
              "      --hover-bg-color: #434B5C;\n",
              "      --hover-fill-color: #FFFFFF;\n",
              "      --disabled-bg-color: #3B4455;\n",
              "      --disabled-fill-color: #666;\n",
              "  }\n",
              "\n",
              "  .colab-df-quickchart {\n",
              "    background-color: var(--bg-color);\n",
              "    border: none;\n",
              "    border-radius: 50%;\n",
              "    cursor: pointer;\n",
              "    display: none;\n",
              "    fill: var(--fill-color);\n",
              "    height: 32px;\n",
              "    padding: 0;\n",
              "    width: 32px;\n",
              "  }\n",
              "\n",
              "  .colab-df-quickchart:hover {\n",
              "    background-color: var(--hover-bg-color);\n",
              "    box-shadow: 0 1px 2px rgba(60, 64, 67, 0.3), 0 1px 3px 1px rgba(60, 64, 67, 0.15);\n",
              "    fill: var(--button-hover-fill-color);\n",
              "  }\n",
              "\n",
              "  .colab-df-quickchart-complete:disabled,\n",
              "  .colab-df-quickchart-complete:disabled:hover {\n",
              "    background-color: var(--disabled-bg-color);\n",
              "    fill: var(--disabled-fill-color);\n",
              "    box-shadow: none;\n",
              "  }\n",
              "\n",
              "  .colab-df-spinner {\n",
              "    border: 2px solid var(--fill-color);\n",
              "    border-color: transparent;\n",
              "    border-bottom-color: var(--fill-color);\n",
              "    animation:\n",
              "      spin 1s steps(1) infinite;\n",
              "  }\n",
              "\n",
              "  @keyframes spin {\n",
              "    0% {\n",
              "      border-color: transparent;\n",
              "      border-bottom-color: var(--fill-color);\n",
              "      border-left-color: var(--fill-color);\n",
              "    }\n",
              "    20% {\n",
              "      border-color: transparent;\n",
              "      border-left-color: var(--fill-color);\n",
              "      border-top-color: var(--fill-color);\n",
              "    }\n",
              "    30% {\n",
              "      border-color: transparent;\n",
              "      border-left-color: var(--fill-color);\n",
              "      border-top-color: var(--fill-color);\n",
              "      border-right-color: var(--fill-color);\n",
              "    }\n",
              "    40% {\n",
              "      border-color: transparent;\n",
              "      border-right-color: var(--fill-color);\n",
              "      border-top-color: var(--fill-color);\n",
              "    }\n",
              "    60% {\n",
              "      border-color: transparent;\n",
              "      border-right-color: var(--fill-color);\n",
              "    }\n",
              "    80% {\n",
              "      border-color: transparent;\n",
              "      border-right-color: var(--fill-color);\n",
              "      border-bottom-color: var(--fill-color);\n",
              "    }\n",
              "    90% {\n",
              "      border-color: transparent;\n",
              "      border-bottom-color: var(--fill-color);\n",
              "    }\n",
              "  }\n",
              "</style>\n",
              "\n",
              "  <script>\n",
              "    async function quickchart(key) {\n",
              "      const quickchartButtonEl =\n",
              "        document.querySelector('#' + key + ' button');\n",
              "      quickchartButtonEl.disabled = true;  // To prevent multiple clicks.\n",
              "      quickchartButtonEl.classList.add('colab-df-spinner');\n",
              "      try {\n",
              "        const charts = await google.colab.kernel.invokeFunction(\n",
              "            'suggestCharts', [key], {});\n",
              "      } catch (error) {\n",
              "        console.error('Error during call to suggestCharts:', error);\n",
              "      }\n",
              "      quickchartButtonEl.classList.remove('colab-df-spinner');\n",
              "      quickchartButtonEl.classList.add('colab-df-quickchart-complete');\n",
              "    }\n",
              "    (() => {\n",
              "      let quickchartButtonEl =\n",
              "        document.querySelector('#df-74a5cf79-87c5-4c1e-ba38-ce71e6e3be69 button');\n",
              "      quickchartButtonEl.style.display =\n",
              "        google.colab.kernel.accessAllowed ? 'block' : 'none';\n",
              "    })();\n",
              "  </script>\n",
              "</div>\n",
              "\n",
              "    </div>\n",
              "  </div>\n"
            ],
            "application/vnd.google.colaboratory.intrinsic+json": {
              "type": "dataframe",
              "variable_name": "df",
              "summary": "{\n  \"name\": \"df\",\n  \"rows\": 16000,\n  \"fields\": [\n    {\n      \"column\": \"English\",\n      \"properties\": {\n        \"dtype\": \"string\",\n        \"num_unique_values\": 15019,\n        \"samples\": [\n          \"Uganda has seen a reduction in Acquired Immune Deficiency Syndrome infections in recent years\",\n          \"Investors need to diversify their businesses.\",\n          \"Road committees help in the road planning process.\"\n        ],\n        \"semantic_type\": \"\",\n        \"description\": \"\"\n      }\n    },\n    {\n      \"column\": \"Luganda\",\n      \"properties\": {\n        \"dtype\": \"string\",\n        \"num_unique_values\": 14999,\n        \"samples\": [\n          \"Abaagalana bangi bafuna okulambikibwa okuva eri abudaabuda nga balina obutategeeragana.\",\n          \"Abalimi bajja kuyiga engeri y'okulemerako mu mbeera ezitali nnungi.\",\n          \"Ebitongole tekijja kuba na nsimbi zimala kusasula bakonzi bonna mulundi gumu.\"\n        ],\n        \"semantic_type\": \"\",\n        \"description\": \"\"\n      }\n    }\n  ]\n}"
            }
          },
          "metadata": {},
          "execution_count": 9
        }
      ]
    },
    {
      "cell_type": "code",
      "source": [
        "print(df.isna().sum())"
      ],
      "metadata": {
        "colab": {
          "base_uri": "https://localhost:8080/"
        },
        "id": "U59nooncSTAg",
        "outputId": "aa0ba5ea-d306-44a2-8961-6ede60b69b61"
      },
      "execution_count": null,
      "outputs": [
        {
          "output_type": "stream",
          "name": "stdout",
          "text": [
            "English    978\n",
            "Luganda    979\n",
            "dtype: int64\n"
          ]
        }
      ]
    },
    {
      "cell_type": "code",
      "source": [
        "df.dropna(inplace=True)\n",
        "print(df.isna().sum())"
      ],
      "metadata": {
        "colab": {
          "base_uri": "https://localhost:8080/"
        },
        "id": "garc8_y_SUQb",
        "outputId": "7c3fca03-ed89-40b3-c0fe-9b346b28b0a3"
      },
      "execution_count": null,
      "outputs": [
        {
          "output_type": "stream",
          "name": "stdout",
          "text": [
            "English    0\n",
            "Luganda    0\n",
            "dtype: int64\n"
          ]
        }
      ]
    },
    {
      "cell_type": "markdown",
      "source": [
        "## Training"
      ],
      "metadata": {
        "id": "wSx3U4UpSnLC"
      }
    },
    {
      "cell_type": "code",
      "source": [
        "def tokenize_and_create_dataset(tokenizer, df):\n",
        "    # tokenizer() returns a dictionary w keys: input_ids (numerical representation of tokens), attention_mask\n",
        "    encodings = tokenizer(\n",
        "        list(df[\"English\"]),\n",
        "        padding=True,\n",
        "        truncation=True\n",
        "    )\n",
        "\n",
        "    decodings = tokenizer(\n",
        "        list(df[\"Luganda\"]),\n",
        "        padding=True,\n",
        "        truncation=True\n",
        "    )\n",
        "\n",
        "    dataset = Dataset.from_dict({\n",
        "        \"input_ids\": encodings[\"input_ids\"],\n",
        "        \"attention_mask\": encodings[\"attention_mask\"],\n",
        "        \"labels\": decodings[\"input_ids\"]\n",
        "    })\n",
        "    return dataset"
      ],
      "metadata": {
        "id": "_kWYiQYBSd52"
      },
      "execution_count": null,
      "outputs": []
    },
    {
      "cell_type": "code",
      "source": [
        "def postprocess_text(preds, labels):\n",
        "    preds = [pred.strip() for pred in preds]\n",
        "    labels = [[label.strip()] for label in labels] #turns into list of lists to be suitable for evaluation like bleu\n",
        "    return preds, labels\n",
        "\n",
        "def compute_metrics(eval_pred):\n",
        "    predictions, labels = eval_pred\n",
        "    decoded_preds = tokenizer.batch_decode(predictions, skip_special_tokens=True) # decodes the logits to get predicted tokens\n",
        "    labels = np.where(labels != -100, labels, tokenizer.pad_token_id)\n",
        "    decoded_labels = tokenizer.batch_decode(labels, skip_special_tokens=True)\n",
        "    decoded_preds, decoded_labels = postprocess_text(decoded_preds, decoded_labels)\n",
        "\n",
        "    bleu = evaluate.load(\"bleu\")\n",
        "    result = bleu.compute(predictions=decoded_preds, references=decoded_labels)\n",
        "    result = {\"bleu\": result[\"bleu\"]}\n",
        "    return result\n"
      ],
      "metadata": {
        "id": "TOxzcAARt-fh"
      },
      "execution_count": null,
      "outputs": []
    },
    {
      "cell_type": "code",
      "source": [
        "train_df, test_df = train_test_split(df, test_size=0.2, random_state=42)"
      ],
      "metadata": {
        "id": "Z5Wto6YWVzHA"
      },
      "execution_count": null,
      "outputs": []
    },
    {
      "cell_type": "code",
      "source": [
        "train_dataset = tokenize_and_create_dataset(tokenizer, train_df)\n",
        "test_dataset = tokenize_and_create_dataset(tokenizer, test_df)\n",
        "print('Data has been tokenized')"
      ],
      "metadata": {
        "colab": {
          "base_uri": "https://localhost:8080/"
        },
        "id": "nZTLXA9rV4Ip",
        "outputId": "60654114-3e4c-4d82-ca04-cf559447f4df"
      },
      "execution_count": null,
      "outputs": [
        {
          "output_type": "stream",
          "name": "stdout",
          "text": [
            "Data has been tokenized\n"
          ]
        }
      ]
    },
    {
      "cell_type": "code",
      "source": [
        "print(train_dataset)\n",
        "print(train_dataset[0])"
      ],
      "metadata": {
        "colab": {
          "base_uri": "https://localhost:8080/"
        },
        "id": "zF63yjKrWDM0",
        "outputId": "bb699409-4302-471f-f808-8d0547b09050"
      },
      "execution_count": null,
      "outputs": [
        {
          "output_type": "stream",
          "name": "stdout",
          "text": [
            "Dataset({\n",
            "    features: ['input_ids', 'attention_mask', 'labels'],\n",
            "    num_rows: 12016\n",
            "})\n",
            "{'input_ids': [256047, 64049, 69796, 2442, 205680, 108, 8334, 20362, 30330, 202, 17334, 8334, 107024, 462, 5346, 248075, 2, 1, 1, 1, 1, 1, 1, 1, 1, 1, 1, 1, 1, 1, 1, 1, 1, 1, 1, 1, 1, 1, 1, 1, 1, 1, 1, 1, 1, 1, 1, 1, 1, 1, 1, 1, 1, 1], 'attention_mask': [1, 1, 1, 1, 1, 1, 1, 1, 1, 1, 1, 1, 1, 1, 1, 1, 1, 0, 0, 0, 0, 0, 0, 0, 0, 0, 0, 0, 0, 0, 0, 0, 0, 0, 0, 0, 0, 0, 0, 0, 0, 0, 0, 0, 0, 0, 0, 0, 0, 0, 0, 0, 0, 0], 'labels': [256047, 1147, 2395, 8078, 161, 214656, 2651, 26346, 77, 1137, 93273, 211525, 94565, 41002, 133918, 183239, 60798, 23966, 1017, 115, 22978, 107540, 248075, 2, 1, 1, 1, 1, 1, 1, 1, 1, 1, 1, 1, 1, 1, 1, 1, 1, 1, 1, 1, 1, 1, 1, 1, 1, 1, 1, 1, 1, 1, 1, 1, 1, 1, 1, 1, 1, 1, 1, 1, 1, 1, 1, 1, 1, 1, 1, 1, 1, 1, 1, 1, 1]}\n"
          ]
        }
      ]
    },
    {
      "cell_type": "code",
      "source": [
        "NUM_EPOCHS = 2\n",
        "model_args = Seq2SeqTrainingArguments(\n",
        "    output_dir=\"gdrive/My Drive/nllb-finetuning\",\n",
        "    weight_decay = 0.02,\n",
        "    num_train_epochs=NUM_EPOCHS,\n",
        "    predict_with_generate=True,\n",
        "    evaluation_strategy=\"steps\",\n",
        "    save_strategy=\"steps\",\n",
        "    load_best_model_at_end=True,\n",
        "    logging_strategy=\"steps\",\n",
        "    learning_rate=2e-4,\n",
        ")"
      ],
      "metadata": {
        "id": "9_3TJocJWIoy"
      },
      "execution_count": null,
      "outputs": []
    },
    {
      "cell_type": "code",
      "source": [
        "trainer = Seq2SeqTrainer(\n",
        "    model=model,\n",
        "    args=model_args,\n",
        "    train_dataset=train_dataset,\n",
        "    eval_dataset=test_dataset,\n",
        "    tokenizer=tokenizer,\n",
        "    data_collator=DataCollatorForSeq2Seq(tokenizer, model=model),\n",
        "    compute_metrics=compute_metrics,\n",
        ")"
      ],
      "metadata": {
        "colab": {
          "base_uri": "https://localhost:8080/"
        },
        "id": "XTQzy9gOZ2ek",
        "outputId": "a8c32b9f-a906-453e-f81f-75eeb8ebfb2b"
      },
      "execution_count": null,
      "outputs": [
        {
          "output_type": "stream",
          "name": "stderr",
          "text": [
            "/usr/local/lib/python3.10/dist-packages/accelerate/accelerator.py:457: FutureWarning: Passing the following arguments to `Accelerator` is deprecated and will be removed in version 1.0 of Accelerate: dict_keys(['dispatch_batches', 'split_batches', 'even_batches', 'use_seedable_sampler']). Please pass an `accelerate.DataLoaderConfiguration` instead: \n",
            "dataloader_config = DataLoaderConfiguration(dispatch_batches=None, split_batches=False, even_batches=True, use_seedable_sampler=True)\n",
            "  warnings.warn(\n"
          ]
        }
      ]
    },
    {
      "cell_type": "code",
      "source": [
        "trainer.train()"
      ],
      "metadata": {
        "colab": {
          "base_uri": "https://localhost:8080/",
          "height": 553
        },
        "id": "0VY-jskCawHE",
        "outputId": "d65fc703-c813-4940-af16-3ee923b366ec"
      },
      "execution_count": null,
      "outputs": [
        {
          "output_type": "display_data",
          "data": {
            "text/plain": [
              "<IPython.core.display.HTML object>"
            ],
            "text/html": [
              "\n",
              "    <div>\n",
              "      \n",
              "      <progress value='3004' max='3004' style='width:300px; height:20px; vertical-align: middle;'></progress>\n",
              "      [3004/3004 1:06:02, Epoch 2/2]\n",
              "    </div>\n",
              "    <table border=\"1\" class=\"dataframe\">\n",
              "  <thead>\n",
              " <tr style=\"text-align: left;\">\n",
              "      <th>Step</th>\n",
              "      <th>Training Loss</th>\n",
              "      <th>Validation Loss</th>\n",
              "      <th>Bleu</th>\n",
              "    </tr>\n",
              "  </thead>\n",
              "  <tbody>\n",
              "    <tr>\n",
              "      <td>500</td>\n",
              "      <td>4.894000</td>\n",
              "      <td>4.488097</td>\n",
              "      <td>0.203021</td>\n",
              "    </tr>\n",
              "    <tr>\n",
              "      <td>1000</td>\n",
              "      <td>4.507100</td>\n",
              "      <td>4.056671</td>\n",
              "      <td>0.223967</td>\n",
              "    </tr>\n",
              "    <tr>\n",
              "      <td>1500</td>\n",
              "      <td>4.158700</td>\n",
              "      <td>3.795963</td>\n",
              "      <td>0.244555</td>\n",
              "    </tr>\n",
              "    <tr>\n",
              "      <td>2000</td>\n",
              "      <td>3.848500</td>\n",
              "      <td>3.646520</td>\n",
              "      <td>0.250823</td>\n",
              "    </tr>\n",
              "    <tr>\n",
              "      <td>2500</td>\n",
              "      <td>3.710600</td>\n",
              "      <td>3.549755</td>\n",
              "      <td>0.259737</td>\n",
              "    </tr>\n",
              "    <tr>\n",
              "      <td>3000</td>\n",
              "      <td>3.642300</td>\n",
              "      <td>3.514868</td>\n",
              "      <td>0.265577</td>\n",
              "    </tr>\n",
              "  </tbody>\n",
              "</table><p>"
            ]
          },
          "metadata": {}
        },
        {
          "output_type": "stream",
          "name": "stderr",
          "text": [
            "Some non-default generation parameters are set in the model config. These should go into a GenerationConfig file (https://huggingface.co/docs/transformers/generation_strategies#save-a-custom-decoding-strategy-with-your-model) instead. This warning will be raised to an exception in v4.41.\n",
            "Non-default generation parameters: {'max_length': 200}\n",
            "Some non-default generation parameters are set in the model config. These should go into a GenerationConfig file (https://huggingface.co/docs/transformers/generation_strategies#save-a-custom-decoding-strategy-with-your-model) instead. This warning will be raised to an exception in v4.41.\n",
            "Non-default generation parameters: {'max_length': 200}\n",
            "Some non-default generation parameters are set in the model config. These should go into a GenerationConfig file (https://huggingface.co/docs/transformers/generation_strategies#save-a-custom-decoding-strategy-with-your-model) instead. This warning will be raised to an exception in v4.41.\n",
            "Non-default generation parameters: {'max_length': 200}\n",
            "Some non-default generation parameters are set in the model config. These should go into a GenerationConfig file (https://huggingface.co/docs/transformers/generation_strategies#save-a-custom-decoding-strategy-with-your-model) instead. This warning will be raised to an exception in v4.41.\n",
            "Non-default generation parameters: {'max_length': 200}\n",
            "Some non-default generation parameters are set in the model config. These should go into a GenerationConfig file (https://huggingface.co/docs/transformers/generation_strategies#save-a-custom-decoding-strategy-with-your-model) instead. This warning will be raised to an exception in v4.41.\n",
            "Non-default generation parameters: {'max_length': 200}\n",
            "Some non-default generation parameters are set in the model config. These should go into a GenerationConfig file (https://huggingface.co/docs/transformers/generation_strategies#save-a-custom-decoding-strategy-with-your-model) instead. This warning will be raised to an exception in v4.41.\n",
            "Non-default generation parameters: {'max_length': 200}\n",
            "There were missing keys in the checkpoint model loaded: ['model.encoder.embed_tokens.weight', 'model.decoder.embed_tokens.weight', 'lm_head.weight'].\n"
          ]
        },
        {
          "output_type": "execute_result",
          "data": {
            "text/plain": [
              "TrainOutput(global_step=3004, training_loss=4.126187973111352, metrics={'train_runtime': 3962.8028, 'train_samples_per_second': 6.064, 'train_steps_per_second': 0.758, 'total_flos': 2746398751064064.0, 'train_loss': 4.126187973111352, 'epoch': 2.0})"
            ]
          },
          "metadata": {},
          "execution_count": 22
        }
      ]
    }
  ]
}